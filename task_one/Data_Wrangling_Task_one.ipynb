{
 "cells": [
  {
   "cell_type": "code",
   "execution_count": 1,
   "id": "2817d940",
   "metadata": {},
   "outputs": [
    {
     "name": "stdout",
     "output_type": "stream",
     "text": [
      "Requirement already satisfied: pandas in c:\\users\\dell\\anaconda3\\lib\\site-packages (2.0.3)Note: you may need to restart the kernel to use updated packages.\n",
      "\n",
      "Requirement already satisfied: python-dateutil>=2.8.2 in c:\\users\\dell\\anaconda3\\lib\\site-packages (from pandas) (2.9.0.post0)\n",
      "Requirement already satisfied: tzdata>=2022.1 in c:\\users\\dell\\anaconda3\\lib\\site-packages (from pandas) (2024.1)\n",
      "Requirement already satisfied: pytz>=2020.1 in c:\\users\\dell\\anaconda3\\lib\\site-packages (from pandas) (2021.1)\n",
      "Requirement already satisfied: numpy>=1.20.3 in c:\\users\\dell\\anaconda3\\lib\\site-packages (from pandas) (1.24.4)\n",
      "Requirement already satisfied: six>=1.5 in c:\\users\\dell\\anaconda3\\lib\\site-packages (from python-dateutil>=2.8.2->pandas) (1.15.0)\n"
     ]
    }
   ],
   "source": [
    "pip install pandas"
   ]
  },
  {
   "cell_type": "code",
   "execution_count": 18,
   "id": "37751411",
   "metadata": {},
   "outputs": [],
   "source": [
    "import pandas as pd\n",
    "import numpy as np"
   ]
  },
  {
   "cell_type": "code",
   "execution_count": 19,
   "id": "67c48355",
   "metadata": {},
   "outputs": [],
   "source": [
    "import os\n",
    "from datetime import datetime\n",
    "from scipy import stats"
   ]
  },
  {
   "cell_type": "code",
   "execution_count": 5,
   "id": "05351ae9",
   "metadata": {},
   "outputs": [],
   "source": [
    "#Construct the file path\n",
    "file_path = os.path.join(os.path.expanduser(\"~\"), \"Downloads\", \"MOCK_DATA.csv\")"
   ]
  },
  {
   "cell_type": "code",
   "execution_count": 6,
   "id": "dbb6cf6c",
   "metadata": {},
   "outputs": [],
   "source": [
    "#Read the CSV file into a Pandas DataFrame\n",
    "df = pd.read_csv(file_path)"
   ]
  },
  {
   "cell_type": "code",
   "execution_count": 7,
   "id": "6b636020",
   "metadata": {},
   "outputs": [],
   "source": [
    "#Calculate the number of rows to load\n",
    "num_rows = int(len(df) * 0.75)"
   ]
  },
  {
   "cell_type": "code",
   "execution_count": 8,
   "id": "d759b895",
   "metadata": {},
   "outputs": [],
   "source": [
    "#Load only the first 75% of the rows\n",
    "df_75 = df.iloc[:num_rows]"
   ]
  },
  {
   "cell_type": "code",
   "execution_count": 9,
   "id": "af0de04d",
   "metadata": {},
   "outputs": [
    {
     "name": "stdout",
     "output_type": "stream",
     "text": [
      "     Customer ID                Country  Total Purchases         Sign-up Date\n",
      "0           1015  Palestinian Territory               12  2022-04-03 21:42:29\n",
      "1           1029                  China               47  2016-01-08 03:13:12\n",
      "2           1025                Nigeria               10  2023-02-20 19:06:14\n",
      "3           1006         United Kingdom               48  2022-05-26 12:46:35\n",
      "4           1024            Philippines               16  2016-12-13 03:44:04\n",
      "..           ...                    ...              ...                  ...\n",
      "745         1024           South Africa               16  2023-06-29 16:06:53\n",
      "746         1009                Nigeria               21  2016-08-16 01:46:44\n",
      "747         1012                 Angola               29  2022-10-10 22:54:07\n",
      "748         1003              Indonesia               30  2015-09-17 14:03:25\n",
      "749         1014               Thailand                4  2020-12-22 14:40:21\n",
      "\n",
      "[750 rows x 4 columns]\n"
     ]
    }
   ],
   "source": [
    "# Identify consecutive duplicates\n",
    "consecutive_duplicates = df_75.duplicated(keep=False) & (df_75.shift() == df_75).all(axis=1)\n",
    "\n",
    "# Remove consecutive duplicates\n",
    "df_75 = df_75[~consecutive_duplicates]\n",
    "\n",
    "print(df_75)"
   ]
  },
  {
   "cell_type": "code",
   "execution_count": 10,
   "id": "465c2436",
   "metadata": {},
   "outputs": [
    {
     "name": "stdout",
     "output_type": "stream",
     "text": [
      "0     2022-04-03 21:42:29\n",
      "1     2016-01-08 03:13:12\n",
      "2     2023-02-20 19:06:14\n",
      "3     2022-05-26 12:46:35\n",
      "4     2016-12-13 03:44:04\n",
      "              ...        \n",
      "745   2023-06-29 16:06:53\n",
      "746   2016-08-16 01:46:44\n",
      "747   2022-10-10 22:54:07\n",
      "748   2015-09-17 14:03:25\n",
      "749                   NaT\n",
      "Name: Sign-up Date, Length: 750, dtype: datetime64[ns]\n"
     ]
    }
   ],
   "source": [
    "# Convert 'Sign-up Date' to datetime\n",
    "df_75['Sign-up Date'] = pd.to_datetime(df_75['Sign-up Date'])\n",
    "\n",
    "# Replace 2020 dates with NaN\n",
    "df_75['Sign-up Date'] = df_75['Sign-up Date'].apply(lambda x: pd.NaT if x.year == 2020 else x)\n",
    "\n",
    "print(df_75['Sign-up Date'])"
   ]
  },
  {
   "cell_type": "code",
   "execution_count": 11,
   "id": "8093ee7c",
   "metadata": {},
   "outputs": [
    {
     "name": "stdout",
     "output_type": "stream",
     "text": [
      "     Customer ID                Country  Total Purchases        Sign-up Date\n",
      "0           1015  Palestinian Territory               12 2022-04-03 21:42:29\n",
      "1           1029                  China               47 2016-01-08 03:13:12\n",
      "2           1025                Nigeria               10 2023-02-20 19:06:14\n",
      "3           1006         United Kingdom               48 2022-05-26 12:46:35\n",
      "4           1024            Philippines               16 2016-12-13 03:44:04\n",
      "..           ...                    ...              ...                 ...\n",
      "745         1024           South Africa               16 2023-06-29 16:06:53\n",
      "746         1009                Nigeria               21 2016-08-16 01:46:44\n",
      "747         1012                 Angola               29 2022-10-10 22:54:07\n",
      "748         1003              Indonesia               30 2015-09-17 14:03:25\n",
      "749         1014               Thailand                4                 NaT\n",
      "\n",
      "[748 rows x 4 columns]\n"
     ]
    }
   ],
   "source": [
    "# Drop rows where 'Total Purchases' < 5 and 'Country' is 'Canada'\n",
    "df_75 = df_75.drop(df_75[(df_75['Total Purchases'] < 5) & (df_75['Country'] == 'Canada')].index)\n",
    "\n",
    "print(df_75)"
   ]
  },
  {
   "cell_type": "code",
   "execution_count": 14,
   "id": "c44751b7",
   "metadata": {},
   "outputs": [],
   "source": [
    "# Drop rows based on 'Total Purchases' and 'Country'\n",
    "df_75 = df_75.drop(df_75[(df_75['Total Purchases'] < 5) & (df_75['Country'] == 'Canada')].index)\n",
    "\n",
    "# Feature Engineering: Create 'Loyalty Score'\n",
    "current_date = datetime.now()"
   ]
  },
  {
   "cell_type": "code",
   "execution_count": 15,
   "id": "50c2569b",
   "metadata": {},
   "outputs": [],
   "source": [
    "def calculate_loyalty_score(row):\n",
    "    total_purchases = row['Total Purchases']\n",
    "    sign_up_date = row['Sign-up Date']\n",
    "\n",
    "    if total_purchases > 20:\n",
    "        return 3\n",
    "    elif 10 <= total_purchases <= 20:\n",
    "        return 2\n",
    "    else:\n",
    "        if pd.notna(sign_up_date): #ensure that there is a valid date.\n",
    "            years_since_signup = (current_date - sign_up_date).days / 365.25\n",
    "            if years_since_signup > 3:\n",
    "                return 2\n",
    "            else:\n",
    "                return 1\n",
    "        else:\n",
    "            return 1 # if the sign up date is NaN, return 1.\n"
   ]
  },
  {
   "cell_type": "code",
   "execution_count": 16,
   "id": "fbd7d5a2",
   "metadata": {},
   "outputs": [
    {
     "name": "stdout",
     "output_type": "stream",
     "text": [
      "   Total Purchases        Sign-up Date  Loyalty Score\n",
      "0               12 2022-04-03 21:42:29              2\n",
      "1               47 2016-01-08 03:13:12              3\n",
      "2               10 2023-02-20 19:06:14              2\n",
      "3               48 2022-05-26 12:46:35              3\n",
      "4               16 2016-12-13 03:44:04              2\n",
      "5               20 2016-05-26 22:29:44              2\n",
      "6               14 2022-09-08 16:30:56              2\n",
      "7               15 2021-04-14 18:55:03              2\n",
      "8               14                 NaT              2\n",
      "9                3                 NaT              1\n"
     ]
    }
   ],
   "source": [
    "df_75['Loyalty Score'] = df_75.apply(calculate_loyalty_score, axis=1)\n",
    "\n",
    "print(df_75[['Total Purchases', 'Sign-up Date', 'Loyalty Score']].head(10)) #display the relevant columns."
   ]
  },
  {
   "cell_type": "code",
   "execution_count": 21,
   "id": "9c9c573b",
   "metadata": {},
   "outputs": [
    {
     "name": "stdout",
     "output_type": "stream",
     "text": [
      "             Avg_Total_Purchases  Max_Total_Purchases  \\\n",
      "Country                                                 \n",
      "Afghanistan             8.000000                   20   \n",
      "Albania                20.500000                   38   \n",
      "Andorra                11.000000                   11   \n",
      "Angola                 15.000000                   29   \n",
      "Argentina              24.692308                   45   \n",
      "...                          ...                  ...   \n",
      "Vanuatu                22.000000                   22   \n",
      "Venezuela              25.333333                   43   \n",
      "Vietnam                24.333333                   47   \n",
      "Yemen                  10.000000                   15   \n",
      "Zimbabwe                8.000000                    8   \n",
      "\n",
      "             Most_Common_Loyalty_Score  \n",
      "Country                                 \n",
      "Afghanistan                          2  \n",
      "Albania                              2  \n",
      "Andorra                              2  \n",
      "Angola                               2  \n",
      "Argentina                            3  \n",
      "...                                ...  \n",
      "Vanuatu                              3  \n",
      "Venezuela                            3  \n",
      "Vietnam                              3  \n",
      "Yemen                                2  \n",
      "Zimbabwe                             2  \n",
      "\n",
      "[111 rows x 3 columns]\n"
     ]
    }
   ],
   "source": [
    "# Data Aggregation & Filtering\n",
    "# Exclude Mexico\n",
    "df_filtered = df_75[df_75['Country'] != 'Mexico']\n",
    "\n",
    "# Group by Country and calculate aggregations\n",
    "grouped_data = df_filtered.groupby('Country').agg(\n",
    "    Avg_Total_Purchases=('Total Purchases', 'mean'),\n",
    "    Max_Total_Purchases=('Total Purchases', 'max'),\n",
    "    Most_Common_Loyalty_Score=('Loyalty Score', lambda x: stats.mode(x).mode[0]) \n",
    ")\n",
    "\n",
    "print(grouped_data)"
   ]
  },
  {
   "cell_type": "code",
   "execution_count": 22,
   "id": "d0795529",
   "metadata": {},
   "outputs": [],
   "source": [
    "# Data Export & Report Generation\n",
    "#Generate the filename\n",
    "today = datetime.now()\n",
    "date_str = today.strftime(\"%d_%m_%Y\")\n",
    "filename = f\"processed_data_{date_str}.csv\""
   ]
  },
  {
   "cell_type": "code",
   "execution_count": 23,
   "id": "7cb95b28",
   "metadata": {},
   "outputs": [],
   "source": [
    "#Select columns and save to CSV\n",
    "selected_columns = [\"Customer ID\", \"Loyalty Score\", \"Country\", \"Total Purchases\"]\n",
    "df_75[selected_columns].to_csv(filename, index=False)"
   ]
  },
  {
   "cell_type": "code",
   "execution_count": 24,
   "id": "25dd0f84",
   "metadata": {},
   "outputs": [
    {
     "name": "stdout",
     "output_type": "stream",
     "text": [
      "   Customer ID  Loyalty Score                   Country  Total Purchases\n",
      "0         1028              2                    Russia               14\n",
      "1         1009              3                   Nigeria               21\n",
      "2         1016              2                    Russia               13\n",
      "3         1028              2                Azerbaijan                9\n",
      "4         1012              2                   Armenia                1\n",
      "5         1006              1                 Macedonia                3\n",
      "6         1000              3  Central African Republic               29\n",
      "7         1003              1                 Indonesia                1\n",
      "8         1016              3               Netherlands               30\n",
      "9         1014              3               Philippines               22\n"
     ]
    }
   ],
   "source": [
    "#Shuffle and print the first 10 rows\n",
    "shuffled_df = df_75.sample(frac=1).reset_index(drop=True)\n",
    "print(shuffled_df[selected_columns].head(10))"
   ]
  },
  {
   "cell_type": "code",
   "execution_count": null,
   "id": "0d9c506b",
   "metadata": {},
   "outputs": [],
   "source": []
  },
  {
   "cell_type": "code",
   "execution_count": 25,
   "id": "a44d43e2",
   "metadata": {},
   "outputs": [
    {
     "name": "stdout",
     "output_type": "stream",
     "text": [
      "\n",
      "# Data Analysis Report\n",
      "\n",
      "This report summarizes the findings from the analysis of the customer dataset. Initially, the dataset was cleaned by removing consecutive duplicate rows and handling missing sign-up dates, particularly those from the year 2020. Furthermore, rows with low total purchases from Canadian customers were excluded to refine the data. A 'Loyalty Score' feature was engineered to categorize customers based on their purchase behavior and membership duration, revealing valuable insights into customer engagement. Aggregating the data by country, excluding Mexico, showed variations in average and maximum total purchases, as well as the most common loyalty scores. Finally, the processed data was exported to a CSV file, and a sample of shuffled records was presented to showcase the refined dataset.\n",
      "\n"
     ]
    }
   ],
   "source": [
    "# Markdown Report\n",
    "report = \"\"\"\n",
    "# Data Analysis Report\n",
    "\n",
    "This report summarizes the findings from the analysis of the customer dataset. \n",
    "Initially, the dataset was cleaned by removing consecutive duplicate rows and handling missing sign-up dates, particularly those from the year 2020. \n",
    "Furthermore, rows with low total purchases from Canadian customers were excluded to refine the data. \n",
    "A 'Loyalty Score' feature was engineered to categorize customers based on their purchase behavior and membership duration, revealing valuable insights into customer engagement. \n",
    "Aggregating the data by country, excluding Mexico, showed variations in average and maximum total purchases, as well as the most common loyalty scores. \n",
    "Finally, the processed data was exported to a CSV file, and a sample of shuffled records was presented to showcase the refined dataset.\n",
    "\"\"\"\n",
    "\n",
    "print(report)"
   ]
  },
  {
   "cell_type": "code",
   "execution_count": null,
   "id": "e344bca9",
   "metadata": {},
   "outputs": [],
   "source": []
  }
 ],
 "metadata": {
  "kernelspec": {
   "display_name": "Python 3",
   "language": "python",
   "name": "python3"
  },
  "language_info": {
   "codemirror_mode": {
    "name": "ipython",
    "version": 3
   },
   "file_extension": ".py",
   "mimetype": "text/x-python",
   "name": "python",
   "nbconvert_exporter": "python",
   "pygments_lexer": "ipython3",
   "version": "3.8.8"
  }
 },
 "nbformat": 4,
 "nbformat_minor": 5
}
